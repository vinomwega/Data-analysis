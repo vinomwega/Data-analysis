{
 "cells": [
  {
   "cell_type": "code",
   "execution_count": 23,
   "metadata": {},
   "outputs": [],
   "source": [
    "class warrior:\n",
    "    name = \"\"\n",
    "    weapon = \"\"\n",
    "    skill = \"\"\n",
    "    rank = \"\"\n",
    "    codeName = \"\"\n",
    "\n",
    "    def __init__ (self, name, weapon, skill, rank, codeName):\n",
    "        self.name=name\n",
    "        self.weapon = weapon\n",
    "        self.skill = skill\n",
    "        self.rank = rank\n",
    "        self.codeName = codeName\n",
    "\n",
    "    def __str__(self):\n",
    "        return \"Welcome\" +self.codeName"
   ]
  },
  {
   "cell_type": "code",
   "execution_count": 12,
   "metadata": {},
   "outputs": [],
   "source": [
    "Hero = warrior(name=\"Jack Ripper\", weapon=\"Dual blades\", skill=\"Quick slash\", rank=\"Adementain\", codeName=\"Dragon breath\")"
   ]
  },
  {
   "cell_type": "code",
   "execution_count": 13,
   "metadata": {},
   "outputs": [
    {
     "name": "stdout",
     "output_type": "stream",
     "text": [
      "<__main__.warrior object at 0x000001284409AED0>\n"
     ]
    }
   ],
   "source": [
    "print(Hero)"
   ]
  },
  {
   "cell_type": "code",
   "execution_count": 14,
   "metadata": {},
   "outputs": [
    {
     "data": {
      "text/plain": [
       "<__main__.warrior at 0x1284409aed0>"
      ]
     },
     "execution_count": 14,
     "metadata": {},
     "output_type": "execute_result"
    }
   ],
   "source": [
    "Hero"
   ]
  },
  {
   "cell_type": "code",
   "execution_count": 15,
   "metadata": {},
   "outputs": [
    {
     "data": {
      "text/plain": [
       "'Dragon breath'"
      ]
     },
     "execution_count": 15,
     "metadata": {},
     "output_type": "execute_result"
    }
   ],
   "source": [
    "Hero.codeName"
   ]
  },
  {
   "cell_type": "code",
   "execution_count": 22,
   "metadata": {},
   "outputs": [
    {
     "data": {
      "text/plain": [
       "<__main__.warrior at 0x1284409aed0>"
      ]
     },
     "execution_count": 22,
     "metadata": {},
     "output_type": "execute_result"
    }
   ],
   "source": [
    "Hero"
   ]
  },
  {
   "cell_type": "code",
   "execution_count": 18,
   "metadata": {},
   "outputs": [],
   "source": [
    "Assasin= warrior(name=\"Umber Monrow\", weapon=\"Daggers\", skill=\"Mirage\", rank=\"Gold\", codeName=\"Night Shadow\")"
   ]
  },
  {
   "cell_type": "code",
   "execution_count": 21,
   "metadata": {},
   "outputs": [
    {
     "data": {
      "text/plain": [
       "'Mirage'"
      ]
     },
     "execution_count": 21,
     "metadata": {},
     "output_type": "execute_result"
    }
   ],
   "source": [
    "Assasin.skill"
   ]
  },
  {
   "cell_type": "code",
   "execution_count": 32,
   "metadata": {},
   "outputs": [
    {
     "name": "stdout",
     "output_type": "stream",
     "text": [
      "WelcomeNight Shadow\n"
     ]
    }
   ],
   "source": [
    "print(Assasin)"
   ]
  },
  {
   "cell_type": "code",
   "execution_count": 36,
   "metadata": {},
   "outputs": [],
   "source": [
    "class Food:\n",
    "    name=\"\"\n",
    "    type=\"\"\n",
    "    price=\"\"\n",
    "    __location=\"\"\n",
    "\n",
    "    def __init__(self,name,type,price):\n",
    "        self.name = name\n",
    "        self.type = type\n",
    "        self.price = price\n",
    "\n",
    "    def __str__(self):\n",
    "        return \"This is \"+ self.name\n",
    "    \n",
    "    def get_origin(self):\n",
    "        return self.type\n",
    "    def set_location(self,location):\n",
    "        self.__location = location\n",
    "    def get_location(self):\n",
    "        return self.__location"
   ]
  },
  {
   "cell_type": "code",
   "execution_count": 25,
   "metadata": {},
   "outputs": [],
   "source": [
    "mango = Food(name=\"MG Mango\", type=\"Fruit\", price=5.99)"
   ]
  },
  {
   "cell_type": "code",
   "execution_count": 26,
   "metadata": {},
   "outputs": [
    {
     "data": {
      "text/plain": [
       "<__main__.Food at 0x12844094710>"
      ]
     },
     "execution_count": 26,
     "metadata": {},
     "output_type": "execute_result"
    }
   ],
   "source": [
    "mango"
   ]
  },
  {
   "cell_type": "code",
   "execution_count": 31,
   "metadata": {},
   "outputs": [
    {
     "name": "stdout",
     "output_type": "stream",
     "text": [
      "Fruit\n"
     ]
    }
   ],
   "source": [
    "Plantain= Food(\"BN Banana\", \"Fruit\", 10)\n",
    "Plantain.name\n",
    "print(Plantain.get_origin())"
   ]
  },
  {
   "cell_type": "markdown",
   "metadata": {},
   "source": [
    "Private properties are only accessible in the class and represented with (__) double underscore"
   ]
  },
  {
   "cell_type": "code",
   "execution_count": 37,
   "metadata": {},
   "outputs": [
    {
     "name": "stdout",
     "output_type": "stream",
     "text": [
      "This is OG Orange\n",
      "None\n",
      "Angola\n"
     ]
    }
   ],
   "source": [
    "Orange=Food(\"OG Orange\", \"citric\", 15)\n",
    "print(Orange)\n",
    "print(Orange.set_location(\"Angola\"))\n",
    "print(Orange.get_location())"
   ]
  },
  {
   "cell_type": "code",
   "execution_count": null,
   "metadata": {},
   "outputs": [],
   "source": []
  }
 ],
 "metadata": {
  "kernelspec": {
   "display_name": "Python 3",
   "language": "python",
   "name": "python3"
  },
  "language_info": {
   "codemirror_mode": {
    "name": "ipython",
    "version": 3
   },
   "file_extension": ".py",
   "mimetype": "text/x-python",
   "name": "python",
   "nbconvert_exporter": "python",
   "pygments_lexer": "ipython3",
   "version": "3.11.9"
  }
 },
 "nbformat": 4,
 "nbformat_minor": 2
}
