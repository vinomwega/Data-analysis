{
 "cells": [
  {
   "cell_type": "code",
   "execution_count": 5,
   "metadata": {},
   "outputs": [],
   "source": [
    "import pandas as pd"
   ]
  },
  {
   "cell_type": "markdown",
   "metadata": {},
   "source": [
    "Create a funtion that looks for the median"
   ]
  },
  {
   "cell_type": "code",
   "execution_count": 6,
   "metadata": {},
   "outputs": [],
   "source": [
    "#Test case\n",
    "t1 =[1,3,4] #3\n",
    "t2 =[3,8,2]#3\n",
    "t3= [1,6,8,3]#4.5\n",
    "\n"
   ]
  },
  {
   "cell_type": "code",
   "execution_count": 11,
   "metadata": {},
   "outputs": [
    {
     "name": "stdout",
     "output_type": "stream",
     "text": [
      "Test Case [1, 3, 4]:  3\n",
      "Test Case [3, 8, 2]:  3\n",
      "Test Case [1, 6, 8, 3]:  4.5\n",
      "Test Case 1 [1, 6, 8, 3]:  4.5\n"
     ]
    }
   ],
   "source": [
    "def calc_median(data_list):\n",
    "    if not len(data_list):\n",
    "        return pd.NA\n",
    "    data_list = sorted(data_list)\n",
    "    if len(data_list) % 2:\n",
    "        middle_index = len(data_list) // 2\n",
    "        return data_list[middle_index]\n",
    "    else:\n",
    "        m_0 = len(data_list) // 2 - 1\n",
    "        m_1 = m_0 + 1\n",
    "        return (data_list[m_0] + data_list[m_1]) / 2\n",
    "\n",
    "for  item in [t1,t2,t3]:\n",
    "    print(f\"Test Case {item}: \", calc_median(item))\n",
    "print(f\"Test Case 1 {item}: \", calc_median(item))"
   ]
  },
  {
   "cell_type": "markdown",
   "metadata": {},
   "source": []
  },
  {
   "cell_type": "markdown",
   "metadata": {},
   "source": [
    "# df.head() gets the 1st few rows but can be specified to get more.\n",
    "# df.tail() gets the last few rows but can be specified to get more.\n",
    "# df.sample() gets a random sample of rows.\n",
    "\n",
    "To get something specific: Eg\n",
    "1. df.math\n",
    "2. df['math']\n",
    "\n",
    "more can be done such as:\n",
    "df['math'].mean()\n",
    "\n",
    "whith this it can be switvhed from mean, median, mode and standard deviation.\n",
    "\n",
    "\n",
    "df.desribe() - gives a summarry of the data\n",
    "standard deviation tells a story of the variation between the max and min.\n",
    "\n",
    "\n",
    "# create a function that give the average value of (math + eng) and adds a column of it.\n",
    "# create a fuction that assigns a grade to the value such that 90 > A, 80 > B, 70 > C, 60 > D, 50 > E,< F.\n",
    "# add a colunm to it using create"
   ]
  },
  {
   "cell_type": "markdown",
   "metadata": {},
   "source": [
    "df['average_score'] = (df.math + df.eng)/2\n",
    "\n",
    "def grade(value):\n",
    "    if value >= 90:\n",
    "    return 'A'\n",
    "    elif value >= 80:\n",
    "    return 'B'\n",
    "    elif value >= 70:\n",
    "    return 'C'\n",
    "    elif value >= 60:\n",
    "    return 'D'\n",
    "    elif value >= 50:\n",
    "    return 'E'\n",
    "    else:\n",
    "    return 'F'\n",
    "\n",
    "\n",
    "df['grade'] = df['average_score].apply(grade)\n",
    "df"
   ]
  },
  {
   "cell_type": "code",
   "execution_count": null,
   "metadata": {},
   "outputs": [],
   "source": [
    "def  add_average_column(df):\n",
    "    df[\"average\"] = df[['math', 'eng']].mean"
   ]
  },
  {
   "cell_type": "markdown",
   "metadata": {},
   "source": [
    "# read a csv file and perform  some summarry statistics with pandas\n"
   ]
  }
 ],
 "metadata": {
  "kernelspec": {
   "display_name": "Python 3",
   "language": "python",
   "name": "python3"
  },
  "language_info": {
   "codemirror_mode": {
    "name": "ipython",
    "version": 3
   },
   "file_extension": ".py",
   "mimetype": "text/x-python",
   "name": "python",
   "nbconvert_exporter": "python",
   "pygments_lexer": "ipython3",
   "version": "3.11.9"
  }
 },
 "nbformat": 4,
 "nbformat_minor": 2
}
