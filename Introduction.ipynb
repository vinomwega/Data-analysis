{
  "nbformat": 4,
  "nbformat_minor": 0,
  "metadata": {
    "colab": {
      "provenance": [],
      "authorship_tag": "ABX9TyPGr/dsEZYQ7nQHnFuQCfZM",
      "include_colab_link": true
    },
    "kernelspec": {
      "name": "python3",
      "display_name": "Python 3"
    },
    "language_info": {
      "name": "python"
    }
  },
  "cells": [
    {
      "cell_type": "markdown",
      "metadata": {
        "id": "view-in-github",
        "colab_type": "text"
      },
      "source": [
        "<a href=\"https://colab.research.google.com/github/vinomwega/Data-analysis/blob/main/Introduction.ipynb\" target=\"_parent\"><img src=\"https://colab.research.google.com/assets/colab-badge.svg\" alt=\"Open In Colab\"/></a>"
      ]
    },
    {
      "cell_type": "markdown",
      "source": [
        "# Intoduction to Python"
      ],
      "metadata": {
        "id": "F57FPvgpxFzr"
      }
    },
    {
      "cell_type": "code",
      "execution_count": null,
      "metadata": {
        "colab": {
          "base_uri": "https://localhost:8080/"
        },
        "id": "AYjsI_nlwkdA",
        "outputId": "9e4bc7c6-1e06-4c85-f885-9ec1c8bdf8d4"
      },
      "outputs": [
        {
          "output_type": "stream",
          "name": "stdout",
          "text": [
            "Hello World\n"
          ]
        }
      ],
      "source": [
        "print(\"Hello World\")"
      ]
    },
    {
      "cell_type": "markdown",
      "source": [
        "Variables and Data types"
      ],
      "metadata": {
        "id": "BYClXyLIzHvr"
      }
    },
    {
      "cell_type": "code",
      "source": [
        "age = 25\n",
        "print(age)"
      ],
      "metadata": {
        "colab": {
          "base_uri": "https://localhost:8080/"
        },
        "id": "oF9E4ir0zHPS",
        "outputId": "e5953777-ba2c-4890-a21f-da20f458cffc"
      },
      "execution_count": null,
      "outputs": [
        {
          "output_type": "stream",
          "name": "stdout",
          "text": [
            "25\n"
          ]
        }
      ]
    },
    {
      "cell_type": "code",
      "source": [
        "height = 1.65"
      ],
      "metadata": {
        "id": "Ei7kWHDUzHN-"
      },
      "execution_count": null,
      "outputs": []
    },
    {
      "cell_type": "code",
      "source": [
        "print(height)"
      ],
      "metadata": {
        "colab": {
          "base_uri": "https://localhost:8080/"
        },
        "id": "NCl7SnzUzHLs",
        "outputId": "51b21ec4-c321-4c52-f56a-464314b57973"
      },
      "execution_count": null,
      "outputs": [
        {
          "output_type": "stream",
          "name": "stdout",
          "text": [
            "1.65\n"
          ]
        }
      ]
    },
    {
      "cell_type": "code",
      "source": [
        "name = 'James Bond'\n",
        "print(name)\n",
        "# When declarig a variable  you can use single quote ('') or double quote (\"\")"
      ],
      "metadata": {
        "colab": {
          "base_uri": "https://localhost:8080/"
        },
        "id": "wOvK0p120I-W",
        "outputId": "2ded1b27-bfa1-4d76-f675-03448f8610ef"
      },
      "execution_count": null,
      "outputs": [
        {
          "output_type": "stream",
          "name": "stdout",
          "text": [
            "James Bond\n"
          ]
        }
      ]
    },
    {
      "cell_type": "code",
      "source": [
        "is_student = False"
      ],
      "metadata": {
        "id": "hybOrZCI0H8r"
      },
      "execution_count": null,
      "outputs": []
    },
    {
      "cell_type": "code",
      "source": [
        "# check data type\n",
        "print(type(age))\n",
        "print(type(height))\n",
        "print(type(name))\n",
        "print(type(is_student))"
      ],
      "metadata": {
        "colab": {
          "base_uri": "https://localhost:8080/"
        },
        "id": "bvPhR0qU3Gik",
        "outputId": "f9eda00e-87b0-4c00-d964-968b882d5371"
      },
      "execution_count": null,
      "outputs": [
        {
          "output_type": "stream",
          "name": "stdout",
          "text": [
            "<class 'int'>\n",
            "<class 'float'>\n",
            "<class 'str'>\n",
            "<class 'bool'>\n"
          ]
        }
      ]
    },
    {
      "cell_type": "code",
      "source": [
        "is_student"
      ],
      "metadata": {
        "colab": {
          "base_uri": "https://localhost:8080/"
        },
        "id": "fpOy1uvx3zRZ",
        "outputId": "fc358ad7-209e-4dbb-f766-46b41a4a65eb"
      },
      "execution_count": null,
      "outputs": [
        {
          "output_type": "execute_result",
          "data": {
            "text/plain": [
              "False"
            ]
          },
          "metadata": {},
          "execution_count": 12
        }
      ]
    },
    {
      "cell_type": "markdown",
      "source": [
        "Bassic Operations"
      ],
      "metadata": {
        "id": "4rqGAqbs4eV7"
      }
    },
    {
      "cell_type": "code",
      "source": [
        "x = 10\n",
        "y = 5"
      ],
      "metadata": {
        "id": "6JnveQDM4N5l"
      },
      "execution_count": null,
      "outputs": []
    },
    {
      "cell_type": "code",
      "source": [
        "addition = x + y\n",
        "print(addition)"
      ],
      "metadata": {
        "colab": {
          "base_uri": "https://localhost:8080/"
        },
        "id": "ty7RNXdZ4V-7",
        "outputId": "43675061-48fd-473d-be0e-99e19b623c04"
      },
      "execution_count": null,
      "outputs": [
        {
          "output_type": "stream",
          "name": "stdout",
          "text": [
            "15\n"
          ]
        }
      ]
    },
    {
      "cell_type": "code",
      "source": [
        "subtraction = x - y\n",
        "print(subtraction)"
      ],
      "metadata": {
        "colab": {
          "base_uri": "https://localhost:8080/"
        },
        "id": "eBRnbKcm4xFH",
        "outputId": "8f367790-3ac4-44bb-fe88-6ade479d9a35"
      },
      "execution_count": null,
      "outputs": [
        {
          "output_type": "stream",
          "name": "stdout",
          "text": [
            "5\n"
          ]
        }
      ]
    },
    {
      "cell_type": "code",
      "source": [
        "multiplication = x * y\n",
        "print(multiplication)"
      ],
      "metadata": {
        "colab": {
          "base_uri": "https://localhost:8080/"
        },
        "id": "LFkJtyIo48Dp",
        "outputId": "28fd5d42-5ea9-4e40-8388-f5f99c4f21c2"
      },
      "execution_count": null,
      "outputs": [
        {
          "output_type": "stream",
          "name": "stdout",
          "text": [
            "50\n"
          ]
        }
      ]
    },
    {
      "cell_type": "code",
      "source": [
        "division = x / y\n",
        "print(division)"
      ],
      "metadata": {
        "colab": {
          "base_uri": "https://localhost:8080/"
        },
        "id": "3puT04Zs5GLF",
        "outputId": "0c150c93-e46b-4945-b240-5b1469e94bc0"
      },
      "execution_count": null,
      "outputs": [
        {
          "output_type": "stream",
          "name": "stdout",
          "text": [
            "2.0\n"
          ]
        }
      ]
    },
    {
      "cell_type": "code",
      "source": [
        "first_name = \"John\"\n",
        "last_name = \"Richer\""
      ],
      "metadata": {
        "id": "sMNUNngj5qJa"
      },
      "execution_count": null,
      "outputs": []
    },
    {
      "cell_type": "code",
      "source": [
        "full_name = first_name + ' ' + last_name\n",
        "print(full_name)"
      ],
      "metadata": {
        "colab": {
          "base_uri": "https://localhost:8080/"
        },
        "id": "0FZxVyKB587B",
        "outputId": "a668cfd3-8ba5-44b1-9f4f-10e6a6b34c1e"
      },
      "execution_count": null,
      "outputs": [
        {
          "output_type": "stream",
          "name": "stdout",
          "text": [
            "John Richer\n"
          ]
        }
      ]
    },
    {
      "cell_type": "markdown",
      "source": [
        "Comparison Operators"
      ],
      "metadata": {
        "id": "k-fdylw0Ckfl"
      }
    },
    {
      "cell_type": "code",
      "source": [
        "#   >  greater than\n",
        "#   <  less than\n",
        "#   ==  equal to\n",
        "#   !=  not equal to\n",
        "#   >=  greater than or equal to\n",
        "#   <=  less than or equal to"
      ],
      "metadata": {
        "id": "XBrG1wwmCpVw"
      },
      "execution_count": null,
      "outputs": []
    },
    {
      "cell_type": "code",
      "source": [
        "n1 = 10\n",
        "n2 = 5"
      ],
      "metadata": {
        "id": "lTj25ipkDR_d"
      },
      "execution_count": null,
      "outputs": []
    },
    {
      "cell_type": "code",
      "source": [
        "n1 < n2"
      ],
      "metadata": {
        "id": "zD8H2QU1DXy4",
        "colab": {
          "base_uri": "https://localhost:8080/"
        },
        "outputId": "0b108a6c-446f-471f-86bd-4d3791268f14"
      },
      "execution_count": null,
      "outputs": [
        {
          "output_type": "execute_result",
          "data": {
            "text/plain": [
              "False"
            ]
          },
          "metadata": {},
          "execution_count": 26
        }
      ]
    },
    {
      "cell_type": "code",
      "source": [
        "n1 > n2"
      ],
      "metadata": {
        "id": "GnG9hIAtDbFn",
        "colab": {
          "base_uri": "https://localhost:8080/"
        },
        "outputId": "bbed1c8f-a920-4c77-c291-f52396abbc11"
      },
      "execution_count": null,
      "outputs": [
        {
          "output_type": "execute_result",
          "data": {
            "text/plain": [
              "True"
            ]
          },
          "metadata": {},
          "execution_count": 27
        }
      ]
    },
    {
      "cell_type": "code",
      "source": [
        "n1 == n2"
      ],
      "metadata": {
        "id": "NNPnXkNUDerW",
        "colab": {
          "base_uri": "https://localhost:8080/"
        },
        "outputId": "3f92fff6-67ab-4660-a934-8b1a08df589f"
      },
      "execution_count": null,
      "outputs": [
        {
          "output_type": "execute_result",
          "data": {
            "text/plain": [
              "False"
            ]
          },
          "metadata": {},
          "execution_count": 28
        }
      ]
    },
    {
      "cell_type": "code",
      "source": [
        "n1 != n2"
      ],
      "metadata": {
        "id": "hUvJxp1EDh3W",
        "colab": {
          "base_uri": "https://localhost:8080/"
        },
        "outputId": "ace36453-822e-40a5-daf6-04515985510d"
      },
      "execution_count": null,
      "outputs": [
        {
          "output_type": "execute_result",
          "data": {
            "text/plain": [
              "True"
            ]
          },
          "metadata": {},
          "execution_count": 29
        }
      ]
    },
    {
      "cell_type": "code",
      "source": [
        " n1 >= n2"
      ],
      "metadata": {
        "id": "RqOISXfjDveO",
        "colab": {
          "base_uri": "https://localhost:8080/"
        },
        "outputId": "d12b2269-87fa-4136-cad2-10dead3ea2e0"
      },
      "execution_count": null,
      "outputs": [
        {
          "output_type": "execute_result",
          "data": {
            "text/plain": [
              "True"
            ]
          },
          "metadata": {},
          "execution_count": 30
        }
      ]
    },
    {
      "cell_type": "code",
      "source": [
        "n1 <= n2"
      ],
      "metadata": {
        "colab": {
          "base_uri": "https://localhost:8080/"
        },
        "id": "PKcEglPqEMum",
        "outputId": "95d52c37-9171-4592-f9c1-a5de244fbbff"
      },
      "execution_count": null,
      "outputs": [
        {
          "output_type": "execute_result",
          "data": {
            "text/plain": [
              "False"
            ]
          },
          "metadata": {},
          "execution_count": 31
        }
      ]
    },
    {
      "cell_type": "markdown",
      "source": [
        "Logical Operators"
      ],
      "metadata": {
        "id": "aT8Rnl8DERP2"
      }
    },
    {
      "cell_type": "code",
      "source": [
        "a = True\n",
        "b = False"
      ],
      "metadata": {
        "id": "iIh3XDAgEWDT"
      },
      "execution_count": null,
      "outputs": []
    },
    {
      "cell_type": "markdown",
      "source": [
        "AND -> if both true = True\n",
        "\n",
        "OR -> if either is true = True\n",
        "\n",
        "NOT -> Opposite"
      ],
      "metadata": {
        "id": "RoJLKjA2E2Ll"
      }
    },
    {
      "cell_type": "code",
      "source": [
        "a and b"
      ],
      "metadata": {
        "colab": {
          "base_uri": "https://localhost:8080/"
        },
        "id": "ADdSE0x5E0JH",
        "outputId": "bc6baf8b-8ec0-4fec-8efe-b9d7f8968812"
      },
      "execution_count": null,
      "outputs": [
        {
          "output_type": "execute_result",
          "data": {
            "text/plain": [
              "False"
            ]
          },
          "metadata": {},
          "execution_count": 33
        }
      ]
    },
    {
      "cell_type": "code",
      "source": [
        "a or b"
      ],
      "metadata": {
        "colab": {
          "base_uri": "https://localhost:8080/"
        },
        "id": "JufCSPWvFX0p",
        "outputId": "69ae3e23-a4d0-4999-fb2d-a0ffcec26058"
      },
      "execution_count": null,
      "outputs": [
        {
          "output_type": "execute_result",
          "data": {
            "text/plain": [
              "True"
            ]
          },
          "metadata": {},
          "execution_count": 34
        }
      ]
    },
    {
      "cell_type": "code",
      "source": [
        "not a\n",
        "not b"
      ],
      "metadata": {
        "colab": {
          "base_uri": "https://localhost:8080/"
        },
        "id": "hQ1cVtLuFZw2",
        "outputId": "59820ca8-f00c-41d8-f741-7c219e5a8b63"
      },
      "execution_count": null,
      "outputs": [
        {
          "output_type": "execute_result",
          "data": {
            "text/plain": [
              "True"
            ]
          },
          "metadata": {},
          "execution_count": 35
        }
      ]
    },
    {
      "cell_type": "code",
      "source": [
        "number = 30\n",
        "\n",
        "is_positive = number > 0\n",
        "\n",
        "print(is_positive)"
      ],
      "metadata": {
        "colab": {
          "base_uri": "https://localhost:8080/"
        },
        "id": "YEDXZv62Fi37",
        "outputId": "f74614da-0884-4122-f272-b395786ef5ad"
      },
      "execution_count": null,
      "outputs": [
        {
          "output_type": "stream",
          "name": "stdout",
          "text": [
            "True\n"
          ]
        }
      ]
    },
    {
      "cell_type": "markdown",
      "source": [
        "Write a code that checks is a person is an adult based on their age. 18 and above"
      ],
      "metadata": {
        "id": "wI_pOiPnGyso"
      }
    },
    {
      "cell_type": "code",
      "source": [
        "age = 20\n",
        "is_adult = age > 18\n",
        "\n",
        "print(is_adult)"
      ],
      "metadata": {
        "colab": {
          "base_uri": "https://localhost:8080/"
        },
        "id": "HQS6wZdbG_0R",
        "outputId": "bb94789a-bdf1-4abd-a563-86dc457a97ba"
      },
      "execution_count": null,
      "outputs": [
        {
          "output_type": "stream",
          "name": "stdout",
          "text": [
            "True\n"
          ]
        }
      ]
    },
    {
      "cell_type": "markdown",
      "source": [
        "Input and Output"
      ],
      "metadata": {
        "id": "wFHL-UArJaYj"
      }
    },
    {
      "cell_type": "code",
      "source": [
        "name2 = input(\"what is your name? \")\n",
        "hobby = input (\"what is your favorite hobby?\")\n",
        "\n",
        "print(\"My name is \", name2, \" and I like \", hobby)\n",
        "\n",
        "# also\n",
        "\n",
        "print(f\"My name is {name2} and I like {hobby}\")"
      ],
      "metadata": {
        "colab": {
          "base_uri": "https://localhost:8080/"
        },
        "id": "fkNG6AA2JehD",
        "outputId": "157cc717-0121-44e9-cce8-e63d2e0d574f"
      },
      "execution_count": null,
      "outputs": [
        {
          "output_type": "stream",
          "name": "stdout",
          "text": [
            "what is your name? Ben\n",
            "what is your favorite hobby?Swimming\n",
            "My name is  Ben  and I like  Swimming\n",
            "My name is Ben and I like Swimming\n"
          ]
        }
      ]
    },
    {
      "cell_type": "markdown",
      "source": [
        "Commenting"
      ],
      "metadata": {
        "id": "1D4po8eqL_Eh"
      }
    },
    {
      "cell_type": "code",
      "source": [
        "# This is a  single line comment\n",
        "\n",
        "'''\n",
        "This\n",
        "is\n",
        "a\n",
        "multinie\n",
        "comment\n",
        "\n",
        "z =2\n",
        "'''\n",
        "print(z)"
      ],
      "metadata": {
        "colab": {
          "base_uri": "https://localhost:8080/",
          "height": 176
        },
        "id": "aHM32_7SMAyM",
        "outputId": "be4e5cd0-39ad-469f-c015-0790b74c3d1a"
      },
      "execution_count": null,
      "outputs": [
        {
          "output_type": "error",
          "ename": "NameError",
          "evalue": "name 'z' is not defined",
          "traceback": [
            "\u001b[0;31m---------------------------------------------------------------------------\u001b[0m",
            "\u001b[0;31mNameError\u001b[0m                                 Traceback (most recent call last)",
            "\u001b[0;32m<ipython-input-53-f911ca84df17>\u001b[0m in \u001b[0;36m<cell line: 0>\u001b[0;34m()\u001b[0m\n\u001b[1;32m     10\u001b[0m \u001b[0mz\u001b[0m \u001b[0;34m=\u001b[0m\u001b[0;36m2\u001b[0m\u001b[0;34m\u001b[0m\u001b[0;34m\u001b[0m\u001b[0m\n\u001b[1;32m     11\u001b[0m '''\n\u001b[0;32m---> 12\u001b[0;31m \u001b[0mprint\u001b[0m\u001b[0;34m(\u001b[0m\u001b[0mz\u001b[0m\u001b[0;34m)\u001b[0m\u001b[0;34m\u001b[0m\u001b[0;34m\u001b[0m\u001b[0m\n\u001b[0m",
            "\u001b[0;31mNameError\u001b[0m: name 'z' is not defined"
          ]
        }
      ]
    },
    {
      "cell_type": "code",
      "source": [
        "# This is a  single line comment\n",
        "\n",
        "'''\n",
        "This\n",
        "is\n",
        "a\n",
        "multinie\n",
        "comment\n",
        "\n",
        "'''\n",
        "z =2\n",
        "print(z)"
      ],
      "metadata": {
        "colab": {
          "base_uri": "https://localhost:8080/"
        },
        "id": "tD1NWV2hMc4L",
        "outputId": "c7d633ff-ae91-4893-ebb4-e81d8459fb34"
      },
      "execution_count": null,
      "outputs": [
        {
          "output_type": "stream",
          "name": "stdout",
          "text": [
            "2\n"
          ]
        }
      ]
    },
    {
      "cell_type": "code",
      "source": [
        "# name2 = input(\"what is your name? \")\n",
        "# hobby = input (\"what is your favorite hobby?\")\n",
        "\n",
        "# print(\"My name is \", name2, \" and I like \", hobby)\n",
        "\n",
        "# # also\n",
        "\n",
        "# print(f\"My name is {name2} and I like {hobby}\")\n",
        "\n",
        "\n"
      ],
      "metadata": {
        "id": "2U98gwpwM2x_"
      },
      "execution_count": null,
      "outputs": []
    },
    {
      "cell_type": "markdown",
      "source": [
        "To comment out multiple line of code select the lines and press ctrl + /\n",
        "\n",
        "and vise versa"
      ],
      "metadata": {
        "id": "FvHH8QM8NM5M"
      }
    },
    {
      "cell_type": "markdown",
      "source": [
        "Basic Calculator\n",
        "\n",
        "\n",
        "Create a program that\n",
        "\n",
        "1. Ask the user for two numbers.\n",
        "2. Perform all basic mathematic operation - add, subtract, multiplication, division.\n",
        "3. Print all the numbers int this formart:\n",
        "\n",
        " addition: 20\n",
        "\n",
        " subtraction: 30\n",
        "\n",
        " etc"
      ],
      "metadata": {
        "id": "lyDMXkn6OLMI"
      }
    },
    {
      "cell_type": "code",
      "source": [
        "num1 = int(input('Enter the 1st number: '))\n",
        "num2 = int( input('Enter the 2nd number: '))\n",
        "add = num1 + num2\n",
        "sub = num1 - num2\n",
        "mul = num1 * num2\n",
        "div = num1 / num2\n",
        "\n",
        "print(\"\\nYour answers are as follows: \")\n",
        "print(\"Addition: \", add)\n",
        "print(\"Subtraction: \", sub)\n",
        "print(\"Multiplication: \", mul)\n",
        "print(\"Division: \", div)"
      ],
      "metadata": {
        "id": "ZPLqsCMKPNxL",
        "colab": {
          "base_uri": "https://localhost:8080/"
        },
        "outputId": "7dc74816-b9a7-4970-e059-fa40caa378c1"
      },
      "execution_count": null,
      "outputs": [
        {
          "output_type": "stream",
          "name": "stdout",
          "text": [
            "Enter the 1st number: 30\n",
            "Enter the 2nd number: 15\n",
            "\n",
            "Your answers are as follows: \n",
            "Addition:  45\n",
            "Subtraction:  15\n",
            "Multiplication:  450\n",
            "Division:  2.0\n"
          ]
        }
      ]
    },
    {
      "cell_type": "markdown",
      "source": [
        "Temperature converter\n",
        "\n",
        "Get user input as celsius then give output as Farenheit"
      ],
      "metadata": {
        "id": "hW6R9r53ST5q"
      }
    },
    {
      "cell_type": "code",
      "source": [
        "temp_celsius = float(input(\"Enter temperature in celsius: \"))\n",
        "temp_farenheit = temp_celsius * 9/5 + 32\n",
        "\n",
        "print(f\"\\nYour temperature in Farenhiet is: \", temp_farenheit)"
      ],
      "metadata": {
        "colab": {
          "base_uri": "https://localhost:8080/"
        },
        "id": "NRxcdrDSSrkZ",
        "outputId": "f05636c8-66b3-455b-cd10-418b26800ba4"
      },
      "execution_count": null,
      "outputs": [
        {
          "output_type": "stream",
          "name": "stdout",
          "text": [
            "Enter temperature in celsius: 36.8\n",
            "\n",
            "Your temperature in Farenhiet is:  98.24\n"
          ]
        }
      ]
    },
    {
      "cell_type": "markdown",
      "source": [
        "Exercise : Name generator\n",
        "\n",
        "Ask the user for their first name and last name.\n",
        "\n",
        "Print thier inititials,  their name in reverse and their name repeated 3 times.\n",
        "\n",
        "Example of the expected output:\n",
        "\n",
        "First name is Jane and last name is Doe\n",
        "\n",
        "Their iniials are J.D\n",
        "\n",
        "Their name in reverse  is eoD enaJ\n",
        "\n",
        "Their name repeated 3 times is Jane Doe, Jane Doe, Jane Doe"
      ],
      "metadata": {
        "id": "bc_ctRqyVLnh"
      }
    },
    {
      "cell_type": "code",
      "source": [
        "# Ask the user for their first name and last name\n",
        "first_name = input(\"Enter your first name: \")\n",
        "last_name = input(\"Enter your last name: \")\n",
        "\n",
        "# Compute initials\n",
        "initials = f\"{first_name[0].upper()}.{last_name[0].upper()}\"\n",
        "\n",
        "# Reverse the name\n",
        "reversed_name = f\"{last_name[::-1]} {first_name[::-1]}\"\n",
        "\n",
        "# Repeat the name 3 times\n",
        "repeated_name = \", \".join([f\"{first_name} {last_name}\"] * 3)\n",
        "\n",
        "# Print the results\n",
        "print(\"\\nResults:\")\n",
        "print(f\"First name is {first_name} and last name is {last_name}\")\n",
        "print(f\"Their initials are {initials}\")\n",
        "print(f\"Their name in reverse is {reversed_name}\")\n",
        "print(f\"Their name repeated 3 times is {repeated_name}\")\n"
      ],
      "metadata": {
        "colab": {
          "base_uri": "https://localhost:8080/"
        },
        "id": "WWHAh460buEj",
        "outputId": "cdb5054f-8a54-4e75-c9d8-4e88d1803e2b"
      },
      "execution_count": null,
      "outputs": [
        {
          "output_type": "stream",
          "name": "stdout",
          "text": [
            "Enter your first name: James\n",
            "Enter your last name: Jacker\n",
            "\n",
            "Results:\n",
            "First name is James and last name is Jacker\n",
            "Their initials are J.J\n",
            "Their name in reverse is rekcaJ semaJ\n",
            "Their name repeated 3 times is James Jacker, James Jacker, James Jacker\n"
          ]
        }
      ]
    }
  ]
}