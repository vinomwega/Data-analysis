{
  "nbformat": 4,
  "nbformat_minor": 0,
  "metadata": {
    "colab": {
      "provenance": [],
      "authorship_tag": "ABX9TyPqS/ul6lyKrh1aTlbekac0",
      "include_colab_link": true
    },
    "kernelspec": {
      "name": "python3",
      "display_name": "Python 3"
    },
    "language_info": {
      "name": "python"
    }
  },
  "cells": [
    {
      "cell_type": "markdown",
      "metadata": {
        "id": "view-in-github",
        "colab_type": "text"
      },
      "source": [
        "<a href=\"https://colab.research.google.com/github/vinomwega/Data-analysis/blob/main/Conditional_Statements.ipynb\" target=\"_parent\"><img src=\"https://colab.research.google.com/assets/colab-badge.svg\" alt=\"Open In Colab\"/></a>"
      ]
    },
    {
      "cell_type": "markdown",
      "source": [
        "Alternate Blocks"
      ],
      "metadata": {
        "id": "aAWy4UuK5hHo"
      }
    },
    {
      "cell_type": "code",
      "execution_count": null,
      "metadata": {
        "colab": {
          "base_uri": "https://localhost:8080/"
        },
        "id": "vmSvtVHw37mR",
        "outputId": "ed67ebad-226f-468f-925e-eb3a33b53894"
      },
      "outputs": [
        {
          "output_type": "stream",
          "name": "stdout",
          "text": [
            "x is negative\n"
          ]
        }
      ],
      "source": [
        "x = -2\n",
        "if x > 0:\n",
        "    print(\"x is positive\")\n",
        "elif x < 0:\n",
        "    print(\"x is negative\")\n",
        "else:\n",
        "    print(\"x is zero\")"
      ]
    },
    {
      "cell_type": "markdown",
      "source": [
        "Test for a driving  license"
      ],
      "metadata": {
        "id": "kj3tDCo64Mf6"
      }
    },
    {
      "cell_type": "code",
      "source": [
        "age = int(input(\"Please enter your age: \"))\n",
        "\n",
        "if age > 18:\n",
        "    print(\"You are qualified to get a driving  license\")\n",
        "else:\n",
        "    print(\"You are still too young to drive\")"
      ],
      "metadata": {
        "id": "ZxdoBmpW4KMT",
        "colab": {
          "base_uri": "https://localhost:8080/"
        },
        "outputId": "791b37d1-4536-48f1-860b-02acf258a426"
      },
      "execution_count": null,
      "outputs": [
        {
          "output_type": "stream",
          "name": "stdout",
          "text": [
            "Please enter your age: 16\n",
            "You are still too young to drive\n"
          ]
        }
      ]
    },
    {
      "cell_type": "markdown",
      "source": [
        "**Nesting**"
      ],
      "metadata": {
        "id": "GJJBuTA9-3ov"
      }
    },
    {
      "cell_type": "markdown",
      "source": [
        "A school follows this grading system\n",
        "\n",
        "below 25 - F\n",
        "\n",
        "25 to 45 - E\n",
        "\n",
        "45 to 50 - D\n",
        "\n",
        "50 to 60 - C\n",
        "\n",
        "60 to 80 - B\n",
        "\n",
        "Above 80 - A\n",
        "\n",
        "Ask the student to enter their marks and print their grade"
      ],
      "metadata": {
        "id": "ydLozUj3BC7E"
      }
    },
    {
      "cell_type": "code",
      "source": [
        "grade = int(input(\"Please enter your marks: \"))\n",
        "\n",
        "if grade >= 0 and grade < 25:\n",
        "    print(\"Your grade is F\")\n",
        "\n",
        "elif grade >= 25 and grade < 45:\n",
        "    print(\"Your grade is E\")\n",
        "\n",
        "elif grade >=45 and grade < 50:\n",
        "    print(\"Your grade is D\")\n",
        "\n",
        "elif grade >= 50 and grade < 60:\n",
        "    print(\"Your grade is C\")\n",
        "\n",
        "elif grade >= 60 and grade < 80:\n",
        "    print(\"Your grade is B\")\n",
        "\n",
        "elif grade >= 80 and grade <= 100:\n",
        "    print(\"Your grade is A\")\n",
        "\n",
        "else:\n",
        "    print(\"You can only enter mark that are between 0 to 100\")"
      ],
      "metadata": {
        "colab": {
          "base_uri": "https://localhost:8080/"
        },
        "id": "N41WMdUU-_nE",
        "outputId": "d6dd62ca-1241-4d3b-d40a-752b9a2a3416"
      },
      "execution_count": null,
      "outputs": [
        {
          "output_type": "stream",
          "name": "stdout",
          "text": [
            "Please enter your marks: 52\n",
            "Your grade is C\n"
          ]
        }
      ]
    },
    {
      "cell_type": "markdown",
      "source": [
        "# **Loops**"
      ],
      "metadata": {
        "id": "pmKU9Nj7UqBd"
      }
    },
    {
      "cell_type": "code",
      "source": [
        "x=True\n",
        "\n",
        "while(x == True):\n",
        "    x = False\n",
        "    print (\"I love coding\")"
      ],
      "metadata": {
        "colab": {
          "base_uri": "https://localhost:8080/"
        },
        "id": "b_spNkIEUTfL",
        "outputId": "a667c44b-d919-4432-cbf2-0b45415fda97"
      },
      "execution_count": null,
      "outputs": [
        {
          "output_type": "stream",
          "name": "stdout",
          "text": [
            "I love coding\n"
          ]
        }
      ]
    },
    {
      "cell_type": "code",
      "source": [
        "x=10\n",
        "\n",
        "while(x >0):\n",
        "    x = x-1\n",
        "    print (\"I love coding\")"
      ],
      "metadata": {
        "colab": {
          "base_uri": "https://localhost:8080/"
        },
        "id": "tH8_LkNEWLzi",
        "outputId": "1988ee85-18f2-454c-f15b-a19d4afaca8a"
      },
      "execution_count": null,
      "outputs": [
        {
          "output_type": "stream",
          "name": "stdout",
          "text": [
            "I love coding\n",
            "I love coding\n",
            "I love coding\n",
            "I love coding\n",
            "I love coding\n",
            "I love coding\n",
            "I love coding\n",
            "I love coding\n",
            "I love coding\n",
            "I love coding\n"
          ]
        }
      ]
    },
    {
      "cell_type": "code",
      "source": [
        "x=10\n",
        "\n",
        "while(x >0):\n",
        "    print (\"I love coding\")\n",
        "    x = x-1\n",
        "    if(x == 5):\n",
        "        break"
      ],
      "metadata": {
        "id": "Xjh9OB-tWaRi",
        "colab": {
          "base_uri": "https://localhost:8080/"
        },
        "outputId": "0f62625c-e255-40a9-fa8c-045169f9a027"
      },
      "execution_count": null,
      "outputs": [
        {
          "output_type": "stream",
          "name": "stdout",
          "text": [
            "I love coding\n",
            "I love coding\n",
            "I love coding\n",
            "I love coding\n",
            "I love coding\n"
          ]
        }
      ]
    },
    {
      "cell_type": "markdown",
      "source": [
        "Exercise:\n",
        "\n",
        "Prompt the user for their name and if it contains an 'n' print once\n",
        "\n",
        "if not print 5 times\n"
      ],
      "metadata": {
        "id": "D2e2BUSjYzp-"
      }
    },
    {
      "cell_type": "code",
      "source": [
        "Uname = input( \"Please enter your name\")\n",
        "count = 0\n",
        "while(count < 1):\n",
        "    if( \"n\" in Uname):\n",
        "        print(\"Your name is:  \", Uname)\n",
        "    break\n",
        "\n",
        "else:\n",
        "    print(\"Your name is:  \", Uname)\n",
        "    count = count + 1"
      ],
      "metadata": {
        "colab": {
          "base_uri": "https://localhost:8080/"
        },
        "id": "4kZ3y-GKYzLU",
        "outputId": "1e02d5e4-c8ea-4214-eea6-eafa50dda139"
      },
      "execution_count": null,
      "outputs": [
        {
          "name": "stdout",
          "output_type": "stream",
          "text": [
            "Please enter your namemary\n"
          ]
        }
      ]
    },
    {
      "cell_type": "code",
      "source": [
        "uname =input()"
      ],
      "metadata": {
        "id": "ppWTGOc3gTMn"
      },
      "execution_count": null,
      "outputs": []
    },
    {
      "cell_type": "markdown",
      "source": [
        "Data storage\n"
      ],
      "metadata": {
        "id": "1ctWNbXdCTND"
      }
    },
    {
      "cell_type": "code",
      "source": [
        "# Lists\n",
        "\n",
        "names=[\"john\", \"Mary\", \"Peter\"]"
      ],
      "metadata": {
        "id": "iawrFWBgCXBy"
      },
      "execution_count": null,
      "outputs": []
    },
    {
      "cell_type": "code",
      "source": [
        "print(names)"
      ],
      "metadata": {
        "colab": {
          "base_uri": "https://localhost:8080/"
        },
        "id": "0VIP9YaxCnZC",
        "outputId": "92f83f32-5e50-4a12-aa15-c012e6fd5e2b"
      },
      "execution_count": null,
      "outputs": [
        {
          "output_type": "stream",
          "name": "stdout",
          "text": [
            "['john', 'Mary', 'Peter']\n"
          ]
        }
      ]
    },
    {
      "cell_type": "code",
      "source": [
        "names[2]"
      ],
      "metadata": {
        "colab": {
          "base_uri": "https://localhost:8080/",
          "height": 36
        },
        "id": "BalXblsUCsoX",
        "outputId": "3189cceb-749c-455d-d6c3-6bb9d3096aa5"
      },
      "execution_count": null,
      "outputs": [
        {
          "output_type": "execute_result",
          "data": {
            "text/plain": [
              "'Peter'"
            ],
            "application/vnd.google.colaboratory.intrinsic+json": {
              "type": "string"
            }
          },
          "metadata": {},
          "execution_count": 3
        }
      ]
    },
    {
      "cell_type": "code",
      "source": [
        "names[-1]"
      ],
      "metadata": {
        "colab": {
          "base_uri": "https://localhost:8080/",
          "height": 36
        },
        "id": "-hq_RN6xDWsf",
        "outputId": "bb78bb89-64e4-446f-8312-ea5f20eacc6c"
      },
      "execution_count": null,
      "outputs": [
        {
          "output_type": "execute_result",
          "data": {
            "text/plain": [
              "'Peter'"
            ],
            "application/vnd.google.colaboratory.intrinsic+json": {
              "type": "string"
            }
          },
          "metadata": {},
          "execution_count": 4
        }
      ]
    },
    {
      "cell_type": "code",
      "source": [
        "len(names)"
      ],
      "metadata": {
        "colab": {
          "base_uri": "https://localhost:8080/"
        },
        "id": "x9IvtzFcDaYK",
        "outputId": "6d0ff7c0-450b-4a45-8623-dfd73af92095"
      },
      "execution_count": null,
      "outputs": [
        {
          "output_type": "execute_result",
          "data": {
            "text/plain": [
              "3"
            ]
          },
          "metadata": {},
          "execution_count": 5
        }
      ]
    },
    {
      "cell_type": "code",
      "source": [
        "temperature=[56, 64, 98, 9]\n",
        "temperature[len(temperature)-1]"
      ],
      "metadata": {
        "colab": {
          "base_uri": "https://localhost:8080/"
        },
        "id": "WgLnxakpEbMb",
        "outputId": "0f85c43f-a488-4bf4-c64e-08038b704aa8"
      },
      "execution_count": null,
      "outputs": [
        {
          "output_type": "execute_result",
          "data": {
            "text/plain": [
              "9"
            ]
          },
          "metadata": {},
          "execution_count": 7
        }
      ]
    },
    {
      "cell_type": "code",
      "source": [
        "names[0:2]"
      ],
      "metadata": {
        "colab": {
          "base_uri": "https://localhost:8080/"
        },
        "id": "-DTdj9xnFBRY",
        "outputId": "754b1c38-0917-4445-a7b3-92fc512346a0"
      },
      "execution_count": 9,
      "outputs": [
        {
          "output_type": "execute_result",
          "data": {
            "text/plain": [
              "['john', 'Mary']"
            ]
          },
          "metadata": {},
          "execution_count": 9
        }
      ]
    },
    {
      "cell_type": "code",
      "source": [
        "names[1:]"
      ],
      "metadata": {
        "id": "-EHFcdLhF-yd",
        "colab": {
          "base_uri": "https://localhost:8080/"
        },
        "outputId": "35c5824d-47c8-443b-d45a-4967b28f6dca"
      },
      "execution_count": 10,
      "outputs": [
        {
          "output_type": "execute_result",
          "data": {
            "text/plain": [
              "['Mary', 'Peter']"
            ]
          },
          "metadata": {},
          "execution_count": 10
        }
      ]
    },
    {
      "cell_type": "code",
      "source": [
        "names[-3:]"
      ],
      "metadata": {
        "colab": {
          "base_uri": "https://localhost:8080/"
        },
        "id": "2c-EezoMGt3f",
        "outputId": "27bbc77c-c38d-4b84-9911-945b101f110c"
      },
      "execution_count": 13,
      "outputs": [
        {
          "output_type": "execute_result",
          "data": {
            "text/plain": [
              "['john', 'Mary', 'Peter']"
            ]
          },
          "metadata": {},
          "execution_count": 13
        }
      ]
    },
    {
      "cell_type": "code",
      "source": [
        "# skipping items/ aletenate\n",
        "names[0::2]"
      ],
      "metadata": {
        "colab": {
          "base_uri": "https://localhost:8080/"
        },
        "id": "2kl92CpdG0Kw",
        "outputId": "22eedf6e-970c-4e32-8985-fc3b5bd049f4"
      },
      "execution_count": 14,
      "outputs": [
        {
          "output_type": "execute_result",
          "data": {
            "text/plain": [
              "['john', 'Peter']"
            ]
          },
          "metadata": {},
          "execution_count": 14
        }
      ]
    },
    {
      "cell_type": "code",
      "source": [
        "student=[[\"John\",18], [\"Mary\",19], [\"Peter\",17]]"
      ],
      "metadata": {
        "id": "Ca4WPjEuHbiv"
      },
      "execution_count": 15,
      "outputs": []
    },
    {
      "cell_type": "code",
      "source": [
        "student[0][1]\n",
        "# accessing items in a list"
      ],
      "metadata": {
        "colab": {
          "base_uri": "https://localhost:8080/"
        },
        "id": "HthF7rIlHudC",
        "outputId": "d44f107c-f5f0-4f78-b60a-45d699c5d5ed"
      },
      "execution_count": 16,
      "outputs": [
        {
          "output_type": "execute_result",
          "data": {
            "text/plain": [
              "18"
            ]
          },
          "metadata": {},
          "execution_count": 16
        }
      ]
    },
    {
      "cell_type": "markdown",
      "source": [
        "for Loop"
      ],
      "metadata": {
        "id": "LIkcpUZuJ5h2"
      }
    },
    {
      "cell_type": "code",
      "source": [
        "for name in names:\n",
        "    print(name)"
      ],
      "metadata": {
        "colab": {
          "base_uri": "https://localhost:8080/"
        },
        "id": "get1XoBpH-oP",
        "outputId": "30a8ad97-e3d9-40a7-8d57-45a59f060711"
      },
      "execution_count": 17,
      "outputs": [
        {
          "output_type": "stream",
          "name": "stdout",
          "text": [
            "john\n",
            "Mary\n",
            "Peter\n"
          ]
        }
      ]
    },
    {
      "cell_type": "code",
      "source": [
        "for temp in temperature:\n",
        "    print(temp)"
      ],
      "metadata": {
        "colab": {
          "base_uri": "https://localhost:8080/"
        },
        "id": "n4wbpCXCKAik",
        "outputId": "0b1b62dd-fc8a-4875-a648-a697e1947bf5"
      },
      "execution_count": 18,
      "outputs": [
        {
          "output_type": "stream",
          "name": "stdout",
          "text": [
            "56\n",
            "64\n",
            "98\n",
            "9\n"
          ]
        }
      ]
    },
    {
      "cell_type": "code",
      "source": [
        "#getting the sum\n",
        "\n",
        "total = 0\n",
        "for temp in temperature:\n",
        "    total = total + temp\n",
        "print(total)"
      ],
      "metadata": {
        "colab": {
          "base_uri": "https://localhost:8080/"
        },
        "id": "7mTo5pQJKMI_",
        "outputId": "48661a98-8214-4dba-ad29-0f7eebe39f8b"
      },
      "execution_count": 19,
      "outputs": [
        {
          "output_type": "stream",
          "name": "stdout",
          "text": [
            "227\n"
          ]
        }
      ]
    },
    {
      "cell_type": "code",
      "source": [
        "# getting the average\n",
        "average = total/len(temperature)\n",
        "print(average)"
      ],
      "metadata": {
        "colab": {
          "base_uri": "https://localhost:8080/"
        },
        "id": "kKiKvacBKdur",
        "outputId": "e99c43a2-240b-4336-d93a-561a76344528"
      },
      "execution_count": 20,
      "outputs": [
        {
          "output_type": "stream",
          "name": "stdout",
          "text": [
            "56.75\n"
          ]
        }
      ]
    },
    {
      "cell_type": "code",
      "source": [
        "# functions to perform aithmetics\n",
        "sum(temperature)"
      ],
      "metadata": {
        "colab": {
          "base_uri": "https://localhost:8080/"
        },
        "id": "BlF490C0LRwD",
        "outputId": "7963cea2-8874-477e-dc5e-b27d1fea091d"
      },
      "execution_count": 21,
      "outputs": [
        {
          "output_type": "execute_result",
          "data": {
            "text/plain": [
              "227"
            ]
          },
          "metadata": {},
          "execution_count": 21
        }
      ]
    },
    {
      "cell_type": "code",
      "source": [
        "min(temperature)"
      ],
      "metadata": {
        "colab": {
          "base_uri": "https://localhost:8080/"
        },
        "id": "toZfBlvXLhV7",
        "outputId": "ea2427d4-8fb2-475e-e10f-ae1687824b77"
      },
      "execution_count": 22,
      "outputs": [
        {
          "output_type": "execute_result",
          "data": {
            "text/plain": [
              "9"
            ]
          },
          "metadata": {},
          "execution_count": 22
        }
      ]
    },
    {
      "cell_type": "code",
      "source": [
        "max(temperature)"
      ],
      "metadata": {
        "colab": {
          "base_uri": "https://localhost:8080/"
        },
        "id": "zWpLtNrDLmLG",
        "outputId": "b9ecb3bf-09ce-47c1-a6b3-5059e33379e5"
      },
      "execution_count": 23,
      "outputs": [
        {
          "output_type": "execute_result",
          "data": {
            "text/plain": [
              "98"
            ]
          },
          "metadata": {},
          "execution_count": 23
        }
      ]
    },
    {
      "cell_type": "code",
      "source": [
        "temperature.append(100)"
      ],
      "metadata": {
        "id": "PKJlg5dvLoZZ"
      },
      "execution_count": 25,
      "outputs": []
    },
    {
      "cell_type": "code",
      "source": [
        "temperature"
      ],
      "metadata": {
        "colab": {
          "base_uri": "https://localhost:8080/"
        },
        "id": "yDG1Di1cLvBv",
        "outputId": "36610782-5608-4df8-8972-718ca72b413b"
      },
      "execution_count": 26,
      "outputs": [
        {
          "output_type": "execute_result",
          "data": {
            "text/plain": [
              "[56, 64, 98, 9, 100]"
            ]
          },
          "metadata": {},
          "execution_count": 26
        }
      ]
    },
    {
      "cell_type": "code",
      "source": [
        "temperature.pop()"
      ],
      "metadata": {
        "colab": {
          "base_uri": "https://localhost:8080/"
        },
        "id": "uXw-g8_MMpJD",
        "outputId": "7885a3ba-d2a4-4751-9866-4ef0fbe9c198"
      },
      "execution_count": 27,
      "outputs": [
        {
          "output_type": "execute_result",
          "data": {
            "text/plain": [
              "100"
            ]
          },
          "metadata": {},
          "execution_count": 27
        }
      ]
    },
    {
      "cell_type": "code",
      "source": [
        "temperature.remove(9)\n",
        "temperature"
      ],
      "metadata": {
        "colab": {
          "base_uri": "https://localhost:8080/"
        },
        "id": "bD1K6BpjMtTt",
        "outputId": "85def17c-90a5-4425-8ecd-753abcddccb3"
      },
      "execution_count": 28,
      "outputs": [
        {
          "output_type": "execute_result",
          "data": {
            "text/plain": [
              "[56, 64, 98]"
            ]
          },
          "metadata": {},
          "execution_count": 28
        }
      ]
    },
    {
      "cell_type": "code",
      "source": [
        "print(range(0,10))"
      ],
      "metadata": {
        "colab": {
          "base_uri": "https://localhost:8080/"
        },
        "id": "jlBV_Y0lM5gZ",
        "outputId": "9407641f-fdd1-4eef-a294-0782cae03f8c"
      },
      "execution_count": 29,
      "outputs": [
        {
          "output_type": "stream",
          "name": "stdout",
          "text": [
            "range(0, 10)\n"
          ]
        }
      ]
    },
    {
      "cell_type": "code",
      "source": [
        "list(range(0,10))"
      ],
      "metadata": {
        "colab": {
          "base_uri": "https://localhost:8080/"
        },
        "id": "xe1QCuhqNrpG",
        "outputId": "900860bb-db06-4534-876e-2692cca561d6"
      },
      "execution_count": 30,
      "outputs": [
        {
          "output_type": "execute_result",
          "data": {
            "text/plain": [
              "[0, 1, 2, 3, 4, 5, 6, 7, 8, 9]"
            ]
          },
          "metadata": {},
          "execution_count": 30
        }
      ]
    },
    {
      "cell_type": "code",
      "source": [
        "range(5,16)"
      ],
      "metadata": {
        "colab": {
          "base_uri": "https://localhost:8080/"
        },
        "id": "ejz2MfQFNwhJ",
        "outputId": "2dddb6f7-a0ec-45d6-d254-bc733f351c44"
      },
      "execution_count": 31,
      "outputs": [
        {
          "output_type": "execute_result",
          "data": {
            "text/plain": [
              "range(5, 16)"
            ]
          },
          "metadata": {},
          "execution_count": 31
        }
      ]
    },
    {
      "cell_type": "code",
      "source": [
        "list(range(5,16))"
      ],
      "metadata": {
        "colab": {
          "base_uri": "https://localhost:8080/"
        },
        "id": "y2ZrJlh8N-EJ",
        "outputId": "f75305eb-fc1c-419b-9fea-7f6abd616376"
      },
      "execution_count": 34,
      "outputs": [
        {
          "output_type": "execute_result",
          "data": {
            "text/plain": [
              "[5, 6, 7, 8, 9, 10, 11, 12, 13, 14, 15]"
            ]
          },
          "metadata": {},
          "execution_count": 34
        }
      ]
    },
    {
      "cell_type": "code",
      "source": [
        "sum(range(5,16))"
      ],
      "metadata": {
        "colab": {
          "base_uri": "https://localhost:8080/"
        },
        "id": "hwRfrh6XOPi2",
        "outputId": "daa03942-f199-4fdd-aef2-b48428d2c609"
      },
      "execution_count": 35,
      "outputs": [
        {
          "output_type": "execute_result",
          "data": {
            "text/plain": [
              "110"
            ]
          },
          "metadata": {},
          "execution_count": 35
        }
      ]
    },
    {
      "cell_type": "code",
      "source": [
        "# Also\n",
        "nums = list(range(5,16))\n",
        "sum_nums = 0\n",
        "for num in nums:\n",
        "    sum_nums = sum_nums + num\n",
        "print(sum_nums)"
      ],
      "metadata": {
        "colab": {
          "base_uri": "https://localhost:8080/"
        },
        "id": "3bGgR7TuOb3w",
        "outputId": "a416deff-e79c-4c18-cbbf-7a3ab9625fd4"
      },
      "execution_count": 36,
      "outputs": [
        {
          "output_type": "stream",
          "name": "stdout",
          "text": [
            "110\n"
          ]
        }
      ]
    },
    {
      "cell_type": "code",
      "source": [
        "# Ways to access your list in reverse order\n",
        "names[-1::-1]"
      ],
      "metadata": {
        "colab": {
          "base_uri": "https://localhost:8080/"
        },
        "id": "Hx5pidGNR98x",
        "outputId": "7ea4bbe3-7884-4b03-c5bf-658cccaead6c"
      },
      "execution_count": 37,
      "outputs": [
        {
          "output_type": "execute_result",
          "data": {
            "text/plain": [
              "['Peter', 'Mary', 'john']"
            ]
          },
          "metadata": {},
          "execution_count": 37
        }
      ]
    },
    {
      "cell_type": "code",
      "source": [
        "#Rever your list\n",
        "names.reverse()\n",
        "names"
      ],
      "metadata": {
        "colab": {
          "base_uri": "https://localhost:8080/"
        },
        "id": "dvIM7ZPAZfyr",
        "outputId": "5c9363b2-04cc-4ee0-827a-cbdd5a2a7cb9"
      },
      "execution_count": 38,
      "outputs": [
        {
          "output_type": "execute_result",
          "data": {
            "text/plain": [
              "['Peter', 'Mary', 'john']"
            ]
          },
          "metadata": {},
          "execution_count": 38
        }
      ]
    },
    {
      "cell_type": "code",
      "source": [
        "names_2=(\"Joseph\", \"Andrew\", \"Jane\")\n",
        "\n",
        "print(type(names_2))\n",
        "print(type(names))"
      ],
      "metadata": {
        "colab": {
          "base_uri": "https://localhost:8080/"
        },
        "id": "owkqpmiEZxkd",
        "outputId": "e1a7ac8b-f944-49e9-96e2-056f9ed8e5cf"
      },
      "execution_count": 39,
      "outputs": [
        {
          "output_type": "stream",
          "name": "stdout",
          "text": [
            "<class 'tuple'>\n",
            "<class 'list'>\n"
          ]
        }
      ]
    },
    {
      "cell_type": "code",
      "source": [
        "profiles = {\"John\":18, \"Mary\":21, \"Peter\":25}"
      ],
      "metadata": {
        "id": "ZUbidL3Ma02I"
      },
      "execution_count": 40,
      "outputs": []
    },
    {
      "cell_type": "code",
      "source": [
        "len(profiles)"
      ],
      "metadata": {
        "colab": {
          "base_uri": "https://localhost:8080/"
        },
        "id": "xs7ODH1Odr4t",
        "outputId": "deda28d0-6a0b-4fb8-dffd-9c0792495608"
      },
      "execution_count": 41,
      "outputs": [
        {
          "output_type": "execute_result",
          "data": {
            "text/plain": [
              "3"
            ]
          },
          "metadata": {},
          "execution_count": 41
        }
      ]
    },
    {
      "cell_type": "code",
      "source": [
        "profiles[\"John\"]"
      ],
      "metadata": {
        "colab": {
          "base_uri": "https://localhost:8080/"
        },
        "id": "CuSXxIBGdujP",
        "outputId": "4c0b7dab-0bff-4be0-e772-96a04731f0e8"
      },
      "execution_count": 42,
      "outputs": [
        {
          "output_type": "execute_result",
          "data": {
            "text/plain": [
              "18"
            ]
          },
          "metadata": {},
          "execution_count": 42
        }
      ]
    },
    {
      "cell_type": "code",
      "source": [
        "profiles[\"Mary\"] = 34"
      ],
      "metadata": {
        "id": "6zEtVGn8dxUL"
      },
      "execution_count": 43,
      "outputs": []
    },
    {
      "cell_type": "code",
      "source": [
        "profiles"
      ],
      "metadata": {
        "colab": {
          "base_uri": "https://localhost:8080/"
        },
        "id": "UBbhqH_cd2tg",
        "outputId": "19c4fa78-3adc-4d0f-b3d5-8501bdcda60d"
      },
      "execution_count": 44,
      "outputs": [
        {
          "output_type": "execute_result",
          "data": {
            "text/plain": [
              "{'John': 18, 'Mary': 34, 'Peter': 25}"
            ]
          },
          "metadata": {},
          "execution_count": 44
        }
      ]
    },
    {
      "cell_type": "code",
      "source": [
        "profiles.values()"
      ],
      "metadata": {
        "colab": {
          "base_uri": "https://localhost:8080/"
        },
        "id": "GvwT4d9dd5TW",
        "outputId": "eb8b7408-9bfc-4d51-f616-a6d5e1f29824"
      },
      "execution_count": 46,
      "outputs": [
        {
          "output_type": "execute_result",
          "data": {
            "text/plain": [
              "dict_values([18, 34, 25])"
            ]
          },
          "metadata": {},
          "execution_count": 46
        }
      ]
    },
    {
      "cell_type": "code",
      "source": [
        "# cast to list\n",
        "list(profiles.values())"
      ],
      "metadata": {
        "colab": {
          "base_uri": "https://localhost:8080/"
        },
        "id": "SOPOznqqeCnr",
        "outputId": "d14bae63-5ec4-47bd-f7e7-3d745965dfe2"
      },
      "execution_count": 47,
      "outputs": [
        {
          "output_type": "execute_result",
          "data": {
            "text/plain": [
              "[18, 34, 25]"
            ]
          },
          "metadata": {},
          "execution_count": 47
        }
      ]
    },
    {
      "cell_type": "code",
      "source": [
        "profiles.items()"
      ],
      "metadata": {
        "colab": {
          "base_uri": "https://localhost:8080/"
        },
        "id": "tcpfo85yeP5n",
        "outputId": "e8cf85d4-4133-4c0e-94b7-ca63d066768c"
      },
      "execution_count": 48,
      "outputs": [
        {
          "output_type": "execute_result",
          "data": {
            "text/plain": [
              "dict_items([('John', 18), ('Mary', 34), ('Peter', 25)])"
            ]
          },
          "metadata": {},
          "execution_count": 48
        }
      ]
    },
    {
      "cell_type": "code",
      "source": [
        "for i,j in profiles.items():\n",
        "    print(i)\n",
        "    print(j)"
      ],
      "metadata": {
        "colab": {
          "base_uri": "https://localhost:8080/"
        },
        "id": "KfJN8gHkev0H",
        "outputId": "a7bea47d-1a60-4550-c4e1-39a217366954"
      },
      "execution_count": 49,
      "outputs": [
        {
          "output_type": "stream",
          "name": "stdout",
          "text": [
            "John\n",
            "18\n",
            "Mary\n",
            "34\n",
            "Peter\n",
            "25\n"
          ]
        }
      ]
    },
    {
      "cell_type": "markdown",
      "source": [
        "Sets\n"
      ],
      "metadata": {
        "id": "GdsL9FZIfv31"
      }
    },
    {
      "cell_type": "code",
      "source": [
        "nums = [1,1,2,2,5,2,1,3,3,4,5,6,6,2,1,8,9,4,2]"
      ],
      "metadata": {
        "id": "oyURKWCIe49S"
      },
      "execution_count": 51,
      "outputs": []
    },
    {
      "cell_type": "code",
      "source": [
        "set(nums)"
      ],
      "metadata": {
        "colab": {
          "base_uri": "https://localhost:8080/"
        },
        "id": "CA-0NV3Xf8BH",
        "outputId": "1efadb50-9210-44ca-d89f-7c76a2bcb423"
      },
      "execution_count": 52,
      "outputs": [
        {
          "output_type": "execute_result",
          "data": {
            "text/plain": [
              "{1, 2, 3, 4, 5, 6, 8, 9}"
            ]
          },
          "metadata": {},
          "execution_count": 52
        }
      ]
    },
    {
      "cell_type": "code",
      "source": [],
      "metadata": {
        "id": "foiGB6scgDiY"
      },
      "execution_count": null,
      "outputs": []
    }
  ]
}